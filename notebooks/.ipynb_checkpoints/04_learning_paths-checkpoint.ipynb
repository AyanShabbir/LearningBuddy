{
 "cells": [
  {
   "cell_type": "markdown",
   "id": "8b18a8e4",
   "metadata": {},
   "source": [
    "# Adaptive Learning Path\n",
    "\n",
    "Based on quiz results, recommend the next study content.\n"
   ]
  },
  {
   "cell_type": "code",
   "execution_count": 2,
   "id": "93912c82-666f-49d6-9ec9-7ef52dc074b9",
   "metadata": {},
   "outputs": [],
   "source": [
    "import sys, os\n",
    "sys.path.append(os.path.abspath(\"..\"))"
   ]
  },
  {
   "cell_type": "code",
   "execution_count": 3,
   "id": "d0e280bf",
   "metadata": {
    "vscode": {
     "languageId": "plaintext"
    }
   },
   "outputs": [
    {
     "name": "stdout",
     "output_type": "stream",
     "text": [
      "Subject: Science, Score: 55, Recommended: Medium: Earth's axial tilt of 23.5 degrees, combined with its orbit, produces va...\n",
      "Subject: Math, Score: 29, Recommended: Easy: Operations with integers include addition, subtraction, multiplication, an...\n",
      "Subject: Geography, Score: 69, Recommended: Medium: Continental drift theory explains how tectonic plate movements shaped th...\n"
     ]
    }
   ],
   "source": [
    "from src.learning_path import LearningPath\n",
    "import pandas as pd\n",
    "import random\n",
    "\n",
    "# Example study materials dictionary\n",
    "materials = {\n",
    "    row['subject']: [\n",
    "        f\"Easy: {row['content']}\",\n",
    "        f\"Medium: {row['content']}\",\n",
    "        f\"Hard: {row['content']}\"\n",
    "    ]\n",
    "    for _, row in pd.read_csv(\"../data/example_study_pack.csv\").iterrows()\n",
    "}\n",
    "\n",
    "lp = LearningPath(materials)\n",
    "\n",
    "# Simulate scores\n",
    "for subject in materials.keys():\n",
    "    score = random.randint(0, 100)\n",
    "    next_material = lp.recommend_next(subject, score)\n",
    "    print(f\"Subject: {subject}, Score: {score}, Recommended: {next_material[:80]}...\")\n"
   ]
  },
  {
   "cell_type": "code",
   "execution_count": 5,
   "id": "d7a38ffe-d4c1-4ea7-a99f-441f88fcde58",
   "metadata": {},
   "outputs": [
    {
     "data": {
      "text/html": [
       "<div>\n",
       "<style scoped>\n",
       "    .dataframe tbody tr th:only-of-type {\n",
       "        vertical-align: middle;\n",
       "    }\n",
       "\n",
       "    .dataframe tbody tr th {\n",
       "        vertical-align: top;\n",
       "    }\n",
       "\n",
       "    .dataframe thead th {\n",
       "        text-align: right;\n",
       "    }\n",
       "</style>\n",
       "<table border=\"1\" class=\"dataframe\">\n",
       "  <thead>\n",
       "    <tr style=\"text-align: right;\">\n",
       "      <th></th>\n",
       "      <th>id</th>\n",
       "      <th>subject</th>\n",
       "      <th>level</th>\n",
       "      <th>content</th>\n",
       "      <th>questions</th>\n",
       "      <th>summary_simple</th>\n",
       "      <th>summary_medium</th>\n",
       "      <th>summary_advanced</th>\n",
       "    </tr>\n",
       "  </thead>\n",
       "  <tbody>\n",
       "    <tr>\n",
       "      <th>0</th>\n",
       "      <td>lc_001</td>\n",
       "      <td>Science</td>\n",
       "      <td>Easy</td>\n",
       "      <td>Plants make food using sunlight, water, and ai...</td>\n",
       "      <td>{'mcq': 'Generate a multiple choice question w...</td>\n",
       "      <td>Plants make food using sunlight, water, and ai...</td>\n",
       "      <td>Plants make food using sunlight, water, and ai...</td>\n",
       "      <td>Plants make food using sunlight, water, and ai...</td>\n",
       "    </tr>\n",
       "    <tr>\n",
       "      <th>1</th>\n",
       "      <td>lc_002</td>\n",
       "      <td>Science</td>\n",
       "      <td>Medium</td>\n",
       "      <td>Photosynthesis is the process by which green p...</td>\n",
       "      <td>{'mcq': 'Generate a multiple choice question w...</td>\n",
       "      <td>Photosynthesis is the process by which green p...</td>\n",
       "      <td>Photosynthesis is the process by which green p...</td>\n",
       "      <td>Photosynthesis is the process by which green p...</td>\n",
       "    </tr>\n",
       "    <tr>\n",
       "      <th>2</th>\n",
       "      <td>lc_003</td>\n",
       "      <td>Science</td>\n",
       "      <td>Hard</td>\n",
       "      <td>Photosynthesis involves light-dependent reacti...</td>\n",
       "      <td>{'mcq': \"Generate a multiple choice question w...</td>\n",
       "      <td>Photosynthesis involves light-dependent reacti...</td>\n",
       "      <td>Photosynthesis involves light-dependent reacti...</td>\n",
       "      <td>Photosynthesis involves light-dependent reacti...</td>\n",
       "    </tr>\n",
       "    <tr>\n",
       "      <th>3</th>\n",
       "      <td>lc_004</td>\n",
       "      <td>Science</td>\n",
       "      <td>Easy</td>\n",
       "      <td>Mitosis is when a cell splits to make two iden...</td>\n",
       "      <td>{'mcq': 'Generate a multiple choice question w...</td>\n",
       "      <td>Mitosis is when a cell splits to make two iden...</td>\n",
       "      <td>Mitosis is when a cell splits to make two iden...</td>\n",
       "      <td>Mitosis is when a cell splits to make two iden...</td>\n",
       "    </tr>\n",
       "    <tr>\n",
       "      <th>4</th>\n",
       "      <td>lc_005</td>\n",
       "      <td>Science</td>\n",
       "      <td>Medium</td>\n",
       "      <td>Mitosis is a type of cell division that result...</td>\n",
       "      <td>{'mcq': 'Generate a multiple choice question w...</td>\n",
       "      <td>Mitosis is a type of cell division that result...</td>\n",
       "      <td>Mitosis is a type of cell division that result...</td>\n",
       "      <td>Mitosis is a type of cell division that result...</td>\n",
       "    </tr>\n",
       "  </tbody>\n",
       "</table>\n",
       "</div>"
      ],
      "text/plain": [
       "       id  subject   level                                            content  \\\n",
       "0  lc_001  Science    Easy  Plants make food using sunlight, water, and ai...   \n",
       "1  lc_002  Science  Medium  Photosynthesis is the process by which green p...   \n",
       "2  lc_003  Science    Hard  Photosynthesis involves light-dependent reacti...   \n",
       "3  lc_004  Science    Easy  Mitosis is when a cell splits to make two iden...   \n",
       "4  lc_005  Science  Medium  Mitosis is a type of cell division that result...   \n",
       "\n",
       "                                           questions  \\\n",
       "0  {'mcq': 'Generate a multiple choice question w...   \n",
       "1  {'mcq': 'Generate a multiple choice question w...   \n",
       "2  {'mcq': \"Generate a multiple choice question w...   \n",
       "3  {'mcq': 'Generate a multiple choice question w...   \n",
       "4  {'mcq': 'Generate a multiple choice question w...   \n",
       "\n",
       "                                      summary_simple  \\\n",
       "0  Plants make food using sunlight, water, and ai...   \n",
       "1  Photosynthesis is the process by which green p...   \n",
       "2  Photosynthesis involves light-dependent reacti...   \n",
       "3  Mitosis is when a cell splits to make two iden...   \n",
       "4  Mitosis is a type of cell division that result...   \n",
       "\n",
       "                                      summary_medium  \\\n",
       "0  Plants make food using sunlight, water, and ai...   \n",
       "1  Photosynthesis is the process by which green p...   \n",
       "2  Photosynthesis involves light-dependent reacti...   \n",
       "3  Mitosis is when a cell splits to make two iden...   \n",
       "4  Mitosis is a type of cell division that result...   \n",
       "\n",
       "                                    summary_advanced  \n",
       "0  Plants make food using sunlight, water, and ai...  \n",
       "1  Photosynthesis is the process by which green p...  \n",
       "2  Photosynthesis involves light-dependent reacti...  \n",
       "3  Mitosis is when a cell splits to make two iden...  \n",
       "4  Mitosis is a type of cell division that result...  "
      ]
     },
     "execution_count": 5,
     "metadata": {},
     "output_type": "execute_result"
    }
   ],
   "source": [
    "import pandas as pd\n",
    "\n",
    "# Load questions and summaries CSVs\n",
    "df_questions = pd.read_csv(\"../data/example_study_pack_with_questions.csv\")\n",
    "df_summaries = pd.read_csv(\"../data/example_study_pack_with_summaries.csv\")\n",
    "\n",
    "# Merge on common columns\n",
    "df_full = pd.merge(\n",
    "    df_questions,\n",
    "    df_summaries,\n",
    "    on=['id', 'subject', 'level', 'content'],\n",
    "    how='inner'\n",
    ")\n",
    "\n",
    "df_full.head()\n"
   ]
  },
  {
   "cell_type": "code",
   "execution_count": 6,
   "id": "643b5469-6c5d-4825-b521-c2c8551bf6f6",
   "metadata": {},
   "outputs": [],
   "source": [
    "df_full.to_csv(\"../data/final_study_pack_demo.csv\", index=False)\n"
   ]
  },
  {
   "cell_type": "code",
   "execution_count": null,
   "id": "2a37425e-cdca-4c74-9f90-fbf8ea551a31",
   "metadata": {},
   "outputs": [],
   "source": [
    "-- BigQuery AI SQL: Suggest next learning material based on a score\n",
    "-- Assume we have student scores in another table (student_scores)\n",
    "\n",
    "SELECT\n",
    "  student_id,\n",
    "  lesson_id,\n",
    "  AI.GENERATE_TEXT(\n",
    "    MODEL `bqai.text-bison`,\n",
    "    PROMPT => CONCAT(\n",
    "      \"Recommend the next lesson content for a student with score: \", score, \"\\n\",\n",
    "      \"Use the lesson difficulty levels and subject topic to provide a personalized recommendation.\"\n",
    "    )\n",
    "  ) AS recommended_next\n",
    "FROM `your-project-id.ai_learning_buddy.student_scores`\n",
    "LIMIT 10;\n"
   ]
  }
 ],
 "metadata": {
  "kernelspec": {
   "display_name": "Python 3 (ipykernel)",
   "language": "python",
   "name": "python3"
  },
  "language_info": {
   "codemirror_mode": {
    "name": "ipython",
    "version": 3
   },
   "file_extension": ".py",
   "mimetype": "text/x-python",
   "name": "python",
   "nbconvert_exporter": "python",
   "pygments_lexer": "ipython3",
   "version": "3.13.5"
  }
 },
 "nbformat": 4,
 "nbformat_minor": 5
}
