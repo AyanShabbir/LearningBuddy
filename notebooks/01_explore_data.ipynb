{
 "cells": [
  {
   "cell_type": "markdown",
   "id": "a4142a0a",
   "metadata": {},
   "source": [
    "# AI Learning Buddy – Data Exploration\n",
    "\n",
    "This notebook explores the dataset for the AI Learning Buddy project. \n",
    "\n",
    "**Goal:** Understand the content available for unprivileged students across different subjects and levels, and prepare it for AI-based question generation and summarization.\n"
   ]
  },
  {
   "cell_type": "code",
   "execution_count": null,
   "id": "b71e8d76-56d9-4010-98a7-29a13c24708d",
   "metadata": {},
   "outputs": [
    {
     "name": "stdout",
     "output_type": "stream",
     "text": [
      "Current working directory: /Users/ayans./Documents/Hybrid-AI-Learning/notebooks\n",
      "User running this: root\n",
      "Files in data/:\n",
      "['.ipynb_checkpoints', 'example_study_pack.csv ']\n"
     ]
    }
   ],
   "source": [
    "import os\n",
    "print(\"Current working directory:\", os.getcwd())\n",
    "print(\"User running this:\", os.getlogin())\n",
    "\n",
    "# List the actual data folder contents\n",
    "print(\"Files in data/:\")\n",
    "print(os.listdir(\"/Users/ayans./Documents/Hybrid-AI-Learning/data\"))\n"
   ]
  },
  {
   "cell_type": "code",
   "execution_count": null,
   "id": "c49449fb",
   "metadata": {},
   "outputs": [],
   "source": [
    "\n",
    "# List the actual data folder contents\n",
    "print(\"Files in data/:\")\n",
    "print(os.listdir(\"/Users/ayans./Documents/Hybrid-AI-Learning/data\"))\n"
   ]
  },
  {
   "cell_type": "markdown",
   "id": "f3a6a541",
   "metadata": {},
   "source": [
    "# Dataset Overview\n",
    "\n",
    "The dataset `example_study_pack.csv` contains:\n",
    "\n",
    "- `id`: Unique identifier for each lesson content.\n",
    "- `subject`: The subject of the lesson (Science, Math, Geography).\n",
    "- `level`: Difficulty level (Easy, Medium, Hard).\n",
    "- `content`: Text content of the lesson.\n",
    "\n",
    "We have a total of 21 entries covering multiple subjects and levels to simulate a small study pack.\n"
   ]
  },
  {
   "cell_type": "markdown",
   "id": "ccc1e705",
   "metadata": {},
   "source": [
    "# Observations\n",
    "\n",
    "- Subjects covered: Science, Math, Geography\n",
    "- Levels covered: Easy, Medium, Hard\n",
    "- Number of lessons per subject and level can be analyzed to ensure balanced content.\n"
   ]
  },
  {
   "cell_type": "code",
   "execution_count": 8,
   "id": "432f3129",
   "metadata": {
    "vscode": {
     "languageId": "plaintext"
    }
   },
   "outputs": [
    {
     "name": "stdout",
     "output_type": "stream",
     "text": [
      "Dataset head:\n",
      "       id  subject   level                                            content\n",
      "0  lc_001  Science    Easy  Plants make food using sunlight, water, and ai...\n",
      "1  lc_002  Science  Medium  Photosynthesis is the process by which green p...\n",
      "2  lc_003  Science    Hard  Photosynthesis involves light-dependent reacti...\n",
      "3  lc_004  Science    Easy  Mitosis is when a cell splits to make two iden...\n",
      "4  lc_005  Science  Medium  Mitosis is a type of cell division that result...\n",
      "\n",
      "Subjects in dataset:\n",
      "['Science' 'Math' 'Geography']\n",
      "\n",
      "Count by subject:\n",
      "subject\n",
      "Science      9\n",
      "Math         6\n",
      "Geography    6\n",
      "Name: count, dtype: int64\n"
     ]
    },
    {
     "data": {
      "image/png": "[encoded data removed]",
      "text/plain": [
       "<Figure size 640x480 with 1 Axes>"
      ]
     },
     "metadata": {},
     "output_type": "display_data"
    }
   ],
   "source": [
    "# 01_explore_data.ipynb\n",
    "import os\n",
    "import pandas as pd\n",
    "\n",
    "# Load local dataset\n",
    "df = pd.read_csv(\"../data/example_study_pack.csv\")\n",
    "print(\"Dataset head:\")\n",
    "print(df.head())\n",
    "\n",
    "# Check subjects\n",
    "print(\"\\nSubjects in dataset:\")\n",
    "print(df['subject'].unique())\n",
    "\n",
    "# Count by subject\n",
    "print(\"\\nCount by subject:\")\n",
    "print(df['subject'].value_counts())\n",
    "\n",
    "# Optional: simple visualization\n",
    "import matplotlib.pyplot as plt\n",
    "df['subject'].value_counts().plot(kind='bar', title='Subjects in Study Pack')\n",
    "plt.show()\n"
   ]
  },
  {
   "cell_type": "code",
   "execution_count": null,
   "id": "ebd775b7-9dd4-4a8e-9d43-33d1bfcfbd17",
   "metadata": {},
   "outputs": [],
   "source": []
  }
 ],
 "metadata": {
  "kernelspec": {
   "display_name": "Python 3 (ipykernel)",
   "language": "python",
   "name": "python3"
  },
  "language_info": {
   "codemirror_mode": {
    "name": "ipython",
    "version": 3
   },
   "file_extension": ".py",
   "mimetype": "text/x-python",
   "name": "python",
   "nbconvert_exporter": "python",
   "pygments_lexer": "ipython3",
   "version": "3.13.5"
  }
 },
 "nbformat": 4,
 "nbformat_minor": 5
}
